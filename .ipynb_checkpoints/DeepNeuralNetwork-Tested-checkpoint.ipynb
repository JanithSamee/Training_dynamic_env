{
 "cells": [
  {
   "cell_type": "code",
   "execution_count": 14,
   "id": "d0d0be9e",
   "metadata": {},
   "outputs": [],
   "source": [
    "import torch\n",
    "from torch import nn\n",
    "from torch.utils.data import DataLoader\n",
    "from torch.utils.data import Dataset\n",
    "from torchvision import datasets\n",
    "from torchvision.transforms import ToTensor\n",
    "import pandas as pd\n",
    "import matplotlib.pyplot as plt\n",
    "import open3d as o3d"
   ]
  },
  {
   "cell_type": "code",
   "execution_count": 15,
   "id": "feef08c8",
   "metadata": {},
   "outputs": [
    {
     "name": "stdout",
     "output_type": "stream",
     "text": [
      "Using cuda device\n"
     ]
    }
   ],
   "source": [
    "# Get cpu, gpu or mps device for training.\n",
    "device = (\n",
    "    \"cuda\"\n",
    "    if torch.cuda.is_available()\n",
    "    else \"mps\"\n",
    "    if torch.backends.mps.is_available()\n",
    "    else \"cpu\"\n",
    ")\n",
    "# device=\"cpu\"\n",
    "print(f\"Using {device} device\")"
   ]
  },
  {
   "cell_type": "code",
   "execution_count": 16,
   "id": "89dda5c6",
   "metadata": {},
   "outputs": [],
   "source": [
    "# Downsampling the Point cloud\n",
    "import numpy as np\n",
    "import time\n",
    "import open3d as o3d\n",
    "\n",
    "def pad_labels(label, max_len=10):\n",
    "    if len(label[0])>0 :\n",
    "        pad_width=max_len-len(label[0])\n",
    "        padded_label = torch.nn.functional.pad(label, (0, 0, 0,pad_width,0,0))\n",
    "        return padded_label\n",
    "    else:\n",
    "        return torch.zeros(1,10,9,device=device)\n",
    "\n",
    "\n",
    "def voxel_downsample(point_cloud, voxel_size):\n",
    "    # Find the minimum and maximum bounds of the point cloud\n",
    "    min_bound = np.min(point_cloud, axis=0)\n",
    "    max_bound = np.max(point_cloud, axis=0)\n",
    "    \n",
    "    # Calculate voxel indices\n",
    "    voxel_indices = np.floor_divide(point_cloud - min_bound, voxel_size).astype(int)\n",
    "    \n",
    "    # Create a unique identifier for each voxel\n",
    "    unique_voxels, inverse_indices = np.unique(voxel_indices, axis=0, return_inverse=True)\n",
    "    \n",
    "    # Calculate voxel centroids\n",
    "    voxel_centroids = np.zeros((unique_voxels.shape[0], 3))\n",
    "    voxel_counts = np.zeros(unique_voxels.shape[0])\n",
    "    \n",
    "    for i, voxel_index in enumerate(unique_voxels):\n",
    "        voxel_points = point_cloud[(inverse_indices == i)]\n",
    "        voxel_centroids[i] = np.mean(voxel_points, axis=0)\n",
    "        voxel_counts[i] = len(voxel_points)\n",
    "    \n",
    "    return voxel_centroids, voxel_counts\n",
    "\n",
    "#Helper function to read .pcd File\n",
    "def read_pcd_file(file_path):\n",
    "    \"\"\"\n",
    "    Read a .pcd file and return the point cloud.\n",
    "    \"\"\"\n",
    "    with open(file_path, 'r') as f:\n",
    "        lines = f.readlines()\n",
    "\n",
    "    data_start = False\n",
    "    data = []\n",
    "\n",
    "    for line in lines:\n",
    "        if line.startswith('DATA'):\n",
    "            data_start = True\n",
    "            continue\n",
    "        if data_start:\n",
    "            data.append(list(map(float, line.split())))\n",
    "\n",
    "    point_cloud = np.array(data)\n",
    "\n",
    "    return point_cloud"
   ]
  },
  {
   "cell_type": "code",
   "execution_count": 17,
   "id": "59ebf216",
   "metadata": {},
   "outputs": [
    {
     "name": "stdout",
     "output_type": "stream",
     "text": [
      "          time                                              chair  \\\n",
      "0  00:00.00000  [[-0.1140332378, -1.0363261758, 0.0844578892, ...   \n",
      "1  00:00.08103  [[-0.1087164686, -1.0356720574, 0.0847318111, ...   \n",
      "2  00:00.15946  [[-0.1033996995, -1.035017939, 0.085005733, 1....   \n",
      "3  00:00.23964  [[-0.09808293030000001, -1.0343638205, 0.08527...   \n",
      "4  00:00.31915  [[-0.09276616110000001, -1.0337097021, 0.08555...   \n",
      "\n",
      "                                               stool  \\\n",
      "0  [[2.1505855001, -1.4536903501, 0.1369566768, 1...   \n",
      "1  [[2.1473772297, -1.4468101854, 0.1367251761, 1...   \n",
      "2  [[2.1441689593, -1.4399300207, 0.1364936754000...   \n",
      "3  [[2.1409606889, -1.4330498561, 0.1362621746, 1...   \n",
      "4  [[2.1377524185, -1.4261696914, 0.1360306739, 1...   \n",
      "\n",
      "                                               table  \\\n",
      "0  [[0.1156135214, -2.2455869696, 0.1178784221, 1...   \n",
      "1  [[0.1152638103, -2.2443210638, 0.117856133, 1....   \n",
      "2  [[0.11491409920000001, -2.243055158, 0.1178338...   \n",
      "3  [[0.114564388, -2.2417892522, 0.1178115547, 1....   \n",
      "4  [[0.1142146769, -2.2405233464, 0.1177892655, 1...   \n",
      "\n",
      "                                                wall  \n",
      "0  [[0.6850594638, -4.899301481, 0.11792199310000...  \n",
      "1  [[0.6831968255, -4.8999852361, 0.1179998067, 3...  \n",
      "2  [[0.6813341873000001, -4.9006689912, 0.1180776...  \n",
      "3  [[0.6794715490000001, -4.9013527463, 0.1181554...  \n",
      "4  [[0.6776089108000001, -4.9020365014, 0.1182332...  \n"
     ]
    }
   ],
   "source": [
    "import json\n",
    "\n",
    "data=[]\n",
    "\n",
    "# data_file = './labels.json'\n",
    "data_file = './full_dataset/converted.json'\n",
    "\n",
    "using = \"pandas\"\n",
    "\n",
    "\n",
    "if(using==\"json\"):\n",
    "    # Load JSON data from the file\n",
    "    with open(data_file) as f:\n",
    "        data = json.load(f)\n",
    "    print(data[1]['time'])\n",
    "else:\n",
    "    data =pd.read_json(data_file)\n",
    "    print(data.head())"
   ]
  },
  {
   "cell_type": "code",
   "execution_count": 18,
   "id": "9c7ca7c5",
   "metadata": {},
   "outputs": [],
   "source": [
    "#Remove Mis-aligend Files\n",
    "for item in [\"chair\",\"stool\",\"table\",\"wall\"]:\n",
    "    for index,i in enumerate(data[item]):\n",
    "        if type(i)== dict:\n",
    "            data=data.drop(index)"
   ]
  },
  {
   "cell_type": "code",
   "execution_count": 19,
   "id": "30d58128",
   "metadata": {},
   "outputs": [],
   "source": [
    "#Check for mis-alligen Files\n",
    "for item in [\"chair\",\"stool\",\"table\",\"wall\"]:\n",
    "    for index,i in enumerate(data[item]):\n",
    "        if type(i)== dict:\n",
    "            print(index)"
   ]
  },
  {
   "cell_type": "code",
   "execution_count": 33,
   "id": "7ddcb368",
   "metadata": {},
   "outputs": [
    {
     "ename": "RuntimeError",
     "evalue": "CUDA error: unspecified launch failure\nCUDA kernel errors might be asynchronously reported at some other API call, so the stacktrace below might be incorrect.\nFor debugging consider passing CUDA_LAUNCH_BLOCKING=1.\nCompile with `TORCH_USE_CUDA_DSA` to enable device-side assertions.\n",
     "output_type": "error",
     "traceback": [
      "\u001b[0;31m---------------------------------------------------------------------------\u001b[0m",
      "\u001b[0;31mRuntimeError\u001b[0m                              Traceback (most recent call last)",
      "Cell \u001b[0;32mIn[33], line 14\u001b[0m\n\u001b[1;32m     12\u001b[0m     output \u001b[38;5;241m=\u001b[39m output\u001b[38;5;241m.\u001b[39mto(device\u001b[38;5;241m=\u001b[39mdevice)\n\u001b[1;32m     13\u001b[0m     \u001b[38;5;28;01mreturn\u001b[39;00m output\n\u001b[0;32m---> 14\u001b[0m \u001b[43mreadPCDFile\u001b[49m\u001b[43m(\u001b[49m\u001b[38;5;124;43m\"\u001b[39;49m\u001b[38;5;124;43m00:00.08103\u001b[39;49m\u001b[38;5;124;43m\"\u001b[39;49m\u001b[43m)\u001b[49m\u001b[38;5;241m.\u001b[39mshape\n",
      "Cell \u001b[0;32mIn[33], line 12\u001b[0m, in \u001b[0;36mreadPCDFile\u001b[0;34m(fileName, path)\u001b[0m\n\u001b[1;32m     10\u001b[0m output\u001b[38;5;241m=\u001b[39mtorch\u001b[38;5;241m.\u001b[39mfrom_numpy(np\u001b[38;5;241m.\u001b[39masarray(point_cloud\u001b[38;5;241m.\u001b[39mpoints))\u001b[38;5;241m.\u001b[39mfloat()\n\u001b[1;32m     11\u001b[0m output\u001b[38;5;241m=\u001b[39mtorch\u001b[38;5;241m.\u001b[39mnn\u001b[38;5;241m.\u001b[39mfunctional\u001b[38;5;241m.\u001b[39mpad(output, (\u001b[38;5;241m0\u001b[39m, \u001b[38;5;241m0\u001b[39m, \u001b[38;5;241m0\u001b[39m, \u001b[38;5;241m1600\u001b[39m \u001b[38;5;241m-\u001b[39m output\u001b[38;5;241m.\u001b[39msize(\u001b[38;5;241m0\u001b[39m)))\n\u001b[0;32m---> 12\u001b[0m output \u001b[38;5;241m=\u001b[39m \u001b[43moutput\u001b[49m\u001b[38;5;241;43m.\u001b[39;49m\u001b[43mto\u001b[49m\u001b[43m(\u001b[49m\u001b[43mdevice\u001b[49m\u001b[38;5;241;43m=\u001b[39;49m\u001b[43mdevice\u001b[49m\u001b[43m)\u001b[49m\n\u001b[1;32m     13\u001b[0m \u001b[38;5;28;01mreturn\u001b[39;00m output\n",
      "\u001b[0;31mRuntimeError\u001b[0m: CUDA error: unspecified launch failure\nCUDA kernel errors might be asynchronously reported at some other API call, so the stacktrace below might be incorrect.\nFor debugging consider passing CUDA_LAUNCH_BLOCKING=1.\nCompile with `TORCH_USE_CUDA_DSA` to enable device-side assertions.\n"
     ]
    }
   ],
   "source": [
    "import open3d as o3d\n",
    "import numpy as np\n",
    "\n",
    "def readPCDFile(fileName,path=\"full_dataset/pcd\"):\n",
    "    fileName =fileName.replace(\":\",\"_\")\n",
    "#     pcd_path = f\"data_set/{fileName}.pcd\"\n",
    "    pcd_path = f\"{path}/{fileName}.pcd\"\n",
    "    point_cloud = o3d.io.read_point_cloud(pcd_path)\n",
    "    point_cloud = point_cloud.voxel_down_sample(voxel_size=0.086)\n",
    "    output=torch.from_numpy(np.asarray(point_cloud.points)).float()\n",
    "    output=torch.nn.functional.pad(output, (0, 0, 0, 1600 - output.size(0)))\n",
    "    output = output.to(device=device)\n",
    "    return output\n",
    "readPCDFile(\"00:00.08103\").shape"
   ]
  },
  {
   "cell_type": "code",
   "execution_count": 96,
   "id": "451001dd",
   "metadata": {},
   "outputs": [
    {
     "ename": "TypeError",
     "evalue": "expected np.ndarray (got tuple)",
     "output_type": "error",
     "traceback": [
      "\u001b[0;31m---------------------------------------------------------------------------\u001b[0m",
      "\u001b[0;31mTypeError\u001b[0m                                 Traceback (most recent call last)",
      "Cell \u001b[0;32mIn[96], line 17\u001b[0m\n\u001b[1;32m     15\u001b[0m     output \u001b[38;5;241m=\u001b[39m output\u001b[38;5;241m.\u001b[39mto(device\u001b[38;5;241m=\u001b[39mdevice)\n\u001b[1;32m     16\u001b[0m     \u001b[38;5;28;01mreturn\u001b[39;00m output\n\u001b[0;32m---> 17\u001b[0m \u001b[43mreadPCDFile\u001b[49m\u001b[43m(\u001b[49m\u001b[38;5;124;43m\"\u001b[39;49m\u001b[38;5;124;43m00:00.08103\u001b[39;49m\u001b[38;5;124;43m\"\u001b[39;49m\u001b[43m)\u001b[49m\u001b[38;5;241m.\u001b[39mshape\n",
      "Cell \u001b[0;32mIn[96], line 12\u001b[0m, in \u001b[0;36mreadPCDFile\u001b[0;34m(fileName)\u001b[0m\n\u001b[1;32m     10\u001b[0m     point_cloud \u001b[38;5;241m=\u001b[39m voxel_downsample(point_cloud,voxel_size\u001b[38;5;241m=\u001b[39m\u001b[38;5;241m0.086\u001b[39m)\n\u001b[1;32m     11\u001b[0m \u001b[38;5;66;03m#     point_cloud = point_cloud.voxel_down_sample(voxel_size=0.086)\u001b[39;00m\n\u001b[0;32m---> 12\u001b[0m     output\u001b[38;5;241m=\u001b[39m\u001b[43mtorch\u001b[49m\u001b[38;5;241;43m.\u001b[39;49m\u001b[43mfrom_numpy\u001b[49m\u001b[43m(\u001b[49m\u001b[43mpoint_cloud\u001b[49m\u001b[43m)\u001b[49m\u001b[38;5;241m.\u001b[39mfloat()\n\u001b[1;32m     13\u001b[0m \u001b[38;5;66;03m#     output=torch.from_numpy(np.asarray(point_cloud.points)).float()\u001b[39;00m\n\u001b[1;32m     14\u001b[0m     output\u001b[38;5;241m=\u001b[39mtorch\u001b[38;5;241m.\u001b[39mnn\u001b[38;5;241m.\u001b[39mfunctional\u001b[38;5;241m.\u001b[39mpad(output, (\u001b[38;5;241m0\u001b[39m, \u001b[38;5;241m0\u001b[39m, \u001b[38;5;241m0\u001b[39m, \u001b[38;5;241m1600\u001b[39m \u001b[38;5;241m-\u001b[39m output\u001b[38;5;241m.\u001b[39msize(\u001b[38;5;241m0\u001b[39m)))\n",
      "\u001b[0;31mTypeError\u001b[0m: expected np.ndarray (got tuple)"
     ]
    }
   ],
   "source": [
    "import open3d as o3d\n",
    "import numpy as np\n",
    "import time\n",
    "\n",
    "def readPCDFile(fileName):\n",
    "    fileName =fileName.replace(\":\",\"_\")\n",
    "#     pcd_path = f\"data_set/{fileName}.pcd\"\n",
    "    pcd_path = f\"full_dataset/pcd/{fileName}.pcd\"\n",
    "    point_cloud = read_pcd_file(pcd_path)\n",
    "    point_cloud = voxel_downsample(point_cloud,voxel_size=0.086)\n",
    "#     point_cloud = point_cloud.voxel_down_sample(voxel_size=0.086)\n",
    "    output=torch.from_numpy(point_cloud).float()\n",
    "#     output=torch.from_numpy(np.asarray(point_cloud.points)).float()\n",
    "    output=torch.nn.functional.pad(output, (0, 0, 0, 1600 - output.size(0)))\n",
    "    output = output.to(device=device)\n",
    "    return output\n",
    "readPCDFile(\"00:00.08103\").shape"
   ]
  },
  {
   "cell_type": "code",
   "execution_count": 35,
   "id": "f4165285",
   "metadata": {},
   "outputs": [],
   "source": [
    "class CustomDataset(Dataset):\n",
    "    \n",
    "    def __init__(self, data,path=\"full_dataset/pcd\"):\n",
    "        self.labels=data\n",
    "        self.path=path\n",
    "\n",
    "    def __len__(self):\n",
    "        return len(self.labels)\n",
    "\n",
    "    def __getitem__(self, idx):\n",
    "        label = self.labels[idx] if using==\"json\" else self.labels.iloc[idx]\n",
    "        point_cloud_data = readPCDFile(label['time'],path=self.path)\n",
    "        label_data=torch.tensor(label['chair'],device=device)\n",
    "        return [point_cloud_data, label_data]"
   ]
  },
  {
   "cell_type": "code",
   "execution_count": 22,
   "id": "eeb2a665",
   "metadata": {},
   "outputs": [],
   "source": [
    "dataset = CustomDataset(data=data)\n",
    "dataset_loader = DataLoader(dataset, batch_size=1, shuffle=True)"
   ]
  },
  {
   "cell_type": "code",
   "execution_count": 23,
   "id": "ff62fa33",
   "metadata": {},
   "outputs": [
    {
     "data": {
      "text/plain": [
       "[tensor([[ 32.1687, -18.3864,   3.2417],\n",
       "         [ -0.5897,   2.7161,   0.2432],\n",
       "         [ -0.1999,   3.2694,   0.2866],\n",
       "         ...,\n",
       "         [  0.0000,   0.0000,   0.0000],\n",
       "         [  0.0000,   0.0000,   0.0000],\n",
       "         [  0.0000,   0.0000,   0.0000]], device='cuda:0'),\n",
       " tensor([[-0.1140, -1.0363,  0.0845,  1.8055,  1.1400,  0.4269,  0.0000,  0.0000,\n",
       "           0.0000],\n",
       "         [ 1.2384, -3.4363,  0.1242,  1.2163,  1.3069,  0.7050,  0.0000,  0.0000,\n",
       "           0.0000],\n",
       "         [ 3.2114, -3.2485,  0.1857,  0.9632,  1.1087,  0.9266,  0.0000,  0.0000,\n",
       "          48.5323],\n",
       "         [ 5.4827,  0.1195,  0.1603,  1.7691,  1.9000,  0.9465,  0.0000,  0.0000,\n",
       "           0.0000]], device='cuda:0')]"
      ]
     },
     "execution_count": 23,
     "metadata": {},
     "output_type": "execute_result"
    }
   ],
   "source": [
    "dataset_loader.dataset[0]"
   ]
  },
  {
   "cell_type": "code",
   "execution_count": 24,
   "id": "dc5e2850",
   "metadata": {},
   "outputs": [],
   "source": [
    "class NeuralNetwork(nn.Module):\n",
    "    def __init__(self):\n",
    "        super(NeuralNetwork,self).__init__()\n",
    "        self.model=nn.Sequential(\n",
    "#           # Define convolutional layers\n",
    "            nn.ReLU(),\n",
    "            nn.Conv1d(in_channels=3, out_channels=16, kernel_size=3, padding=1),\n",
    "            nn.MaxPool1d(kernel_size=16, stride=2),\n",
    "            nn.Conv1d(in_channels=16, out_channels=16, kernel_size=4, padding=1),\n",
    "            nn.Linear(792,16),\n",
    "            nn.ReLU(),\n",
    "            nn.Dropout(),\n",
    "            nn.Linear(16,1),\n",
    "            nn.Flatten(),\n",
    "        )\n",
    "        self.prob=nn.Sequential(\n",
    "            nn.ReLU(),\n",
    "            nn.Linear(16,32),\n",
    "            nn.Linear(32,10),\n",
    "            nn.Softmax(dim=1)\n",
    "        )\n",
    "        self.boxes=nn.Sequential(\n",
    "            nn.ReLU(),\n",
    "            nn.Linear(16,32),\n",
    "            nn.Linear(32,128),\n",
    "            nn.ReLU(),\n",
    "            nn.Linear(128,90)\n",
    "        )\n",
    "       \n",
    "    def forward(self,x):\n",
    "        \n",
    "        base = self.model(x)\n",
    "        _base = base.clone()\n",
    "        prob = self.prob(base)\n",
    "        boxes = self.boxes(_base).view(-1, 10,9)\n",
    "        return prob,boxes\n",
    "        "
   ]
  },
  {
   "cell_type": "code",
   "execution_count": 25,
   "id": "d379cb12",
   "metadata": {},
   "outputs": [
    {
     "name": "stdout",
     "output_type": "stream",
     "text": [
      "NeuralNetwork(\n",
      "  (model): Sequential(\n",
      "    (0): ReLU()\n",
      "    (1): Conv1d(3, 16, kernel_size=(3,), stride=(1,), padding=(1,))\n",
      "    (2): MaxPool1d(kernel_size=16, stride=2, padding=0, dilation=1, ceil_mode=False)\n",
      "    (3): Conv1d(16, 16, kernel_size=(4,), stride=(1,), padding=(1,))\n",
      "    (4): Linear(in_features=792, out_features=16, bias=True)\n",
      "    (5): ReLU()\n",
      "    (6): Dropout(p=0.5, inplace=False)\n",
      "    (7): Linear(in_features=16, out_features=1, bias=True)\n",
      "    (8): Flatten(start_dim=1, end_dim=-1)\n",
      "  )\n",
      "  (prob): Sequential(\n",
      "    (0): ReLU()\n",
      "    (1): Linear(in_features=16, out_features=32, bias=True)\n",
      "    (2): Linear(in_features=32, out_features=10, bias=True)\n",
      "    (3): Softmax(dim=1)\n",
      "  )\n",
      "  (boxes): Sequential(\n",
      "    (0): ReLU()\n",
      "    (1): Linear(in_features=16, out_features=32, bias=True)\n",
      "    (2): Linear(in_features=32, out_features=128, bias=True)\n",
      "    (3): ReLU()\n",
      "    (4): Linear(in_features=128, out_features=90, bias=True)\n",
      "  )\n",
      ")\n"
     ]
    }
   ],
   "source": [
    "\n",
    "\n",
    "model = NeuralNetwork().to(device)\n",
    "print(model)\n",
    "\n",
    "criterion = nn.MSELoss()\n",
    "criterion_prob = nn.BCELoss()\n",
    "\n",
    "optimizer = torch.optim.Adam(model.parameters(), lr=0.001)\n",
    "\n"
   ]
  },
  {
   "cell_type": "code",
   "execution_count": 26,
   "id": "b98e225c",
   "metadata": {},
   "outputs": [
    {
     "name": "stdout",
     "output_type": "stream",
     "text": [
      "Training Starting\n",
      "[173 / 500] Losses (Probability/Boxes) : 14.500000206629435 / 47.198279803305085\r"
     ]
    },
    {
     "ename": "KeyboardInterrupt",
     "evalue": "",
     "output_type": "error",
     "traceback": [
      "\u001b[0;31m---------------------------------------------------------------------------\u001b[0m",
      "\u001b[0;31mKeyboardInterrupt\u001b[0m                         Traceback (most recent call last)",
      "Cell \u001b[0;32mIn[26], line 14\u001b[0m\n\u001b[1;32m     10\u001b[0m running_loss \u001b[38;5;241m=\u001b[39m \u001b[38;5;241m0.0\u001b[39m\n\u001b[1;32m     11\u001b[0m running_loss_boxes \u001b[38;5;241m=\u001b[39m \u001b[38;5;241m0.0\u001b[39m\n\u001b[0;32m---> 14\u001b[0m \u001b[38;5;28;01mfor\u001b[39;00m i, _data \u001b[38;5;129;01min\u001b[39;00m \u001b[38;5;28menumerate\u001b[39m(dataset_loader, \u001b[38;5;241m0\u001b[39m):\n\u001b[1;32m     15\u001b[0m     \u001b[38;5;28;01mtry\u001b[39;00m:\n\u001b[1;32m     16\u001b[0m         inputs, labels \u001b[38;5;241m=\u001b[39m _data\n",
      "File \u001b[0;32m~/notebook/venv/lib/python3.8/site-packages/torch/utils/data/dataloader.py:631\u001b[0m, in \u001b[0;36m_BaseDataLoaderIter.__next__\u001b[0;34m(self)\u001b[0m\n\u001b[1;32m    628\u001b[0m \u001b[38;5;28;01mif\u001b[39;00m \u001b[38;5;28mself\u001b[39m\u001b[38;5;241m.\u001b[39m_sampler_iter \u001b[38;5;129;01mis\u001b[39;00m \u001b[38;5;28;01mNone\u001b[39;00m:\n\u001b[1;32m    629\u001b[0m     \u001b[38;5;66;03m# TODO(https://github.com/pytorch/pytorch/issues/76750)\u001b[39;00m\n\u001b[1;32m    630\u001b[0m     \u001b[38;5;28mself\u001b[39m\u001b[38;5;241m.\u001b[39m_reset()  \u001b[38;5;66;03m# type: ignore[call-arg]\u001b[39;00m\n\u001b[0;32m--> 631\u001b[0m data \u001b[38;5;241m=\u001b[39m \u001b[38;5;28;43mself\u001b[39;49m\u001b[38;5;241;43m.\u001b[39;49m\u001b[43m_next_data\u001b[49m\u001b[43m(\u001b[49m\u001b[43m)\u001b[49m\n\u001b[1;32m    632\u001b[0m \u001b[38;5;28mself\u001b[39m\u001b[38;5;241m.\u001b[39m_num_yielded \u001b[38;5;241m+\u001b[39m\u001b[38;5;241m=\u001b[39m \u001b[38;5;241m1\u001b[39m\n\u001b[1;32m    633\u001b[0m \u001b[38;5;28;01mif\u001b[39;00m \u001b[38;5;28mself\u001b[39m\u001b[38;5;241m.\u001b[39m_dataset_kind \u001b[38;5;241m==\u001b[39m _DatasetKind\u001b[38;5;241m.\u001b[39mIterable \u001b[38;5;129;01mand\u001b[39;00m \\\n\u001b[1;32m    634\u001b[0m         \u001b[38;5;28mself\u001b[39m\u001b[38;5;241m.\u001b[39m_IterableDataset_len_called \u001b[38;5;129;01mis\u001b[39;00m \u001b[38;5;129;01mnot\u001b[39;00m \u001b[38;5;28;01mNone\u001b[39;00m \u001b[38;5;129;01mand\u001b[39;00m \\\n\u001b[1;32m    635\u001b[0m         \u001b[38;5;28mself\u001b[39m\u001b[38;5;241m.\u001b[39m_num_yielded \u001b[38;5;241m>\u001b[39m \u001b[38;5;28mself\u001b[39m\u001b[38;5;241m.\u001b[39m_IterableDataset_len_called:\n",
      "File \u001b[0;32m~/notebook/venv/lib/python3.8/site-packages/torch/utils/data/dataloader.py:675\u001b[0m, in \u001b[0;36m_SingleProcessDataLoaderIter._next_data\u001b[0;34m(self)\u001b[0m\n\u001b[1;32m    673\u001b[0m \u001b[38;5;28;01mdef\u001b[39;00m \u001b[38;5;21m_next_data\u001b[39m(\u001b[38;5;28mself\u001b[39m):\n\u001b[1;32m    674\u001b[0m     index \u001b[38;5;241m=\u001b[39m \u001b[38;5;28mself\u001b[39m\u001b[38;5;241m.\u001b[39m_next_index()  \u001b[38;5;66;03m# may raise StopIteration\u001b[39;00m\n\u001b[0;32m--> 675\u001b[0m     data \u001b[38;5;241m=\u001b[39m \u001b[38;5;28;43mself\u001b[39;49m\u001b[38;5;241;43m.\u001b[39;49m\u001b[43m_dataset_fetcher\u001b[49m\u001b[38;5;241;43m.\u001b[39;49m\u001b[43mfetch\u001b[49m\u001b[43m(\u001b[49m\u001b[43mindex\u001b[49m\u001b[43m)\u001b[49m  \u001b[38;5;66;03m# may raise StopIteration\u001b[39;00m\n\u001b[1;32m    676\u001b[0m     \u001b[38;5;28;01mif\u001b[39;00m \u001b[38;5;28mself\u001b[39m\u001b[38;5;241m.\u001b[39m_pin_memory:\n\u001b[1;32m    677\u001b[0m         data \u001b[38;5;241m=\u001b[39m _utils\u001b[38;5;241m.\u001b[39mpin_memory\u001b[38;5;241m.\u001b[39mpin_memory(data, \u001b[38;5;28mself\u001b[39m\u001b[38;5;241m.\u001b[39m_pin_memory_device)\n",
      "File \u001b[0;32m~/notebook/venv/lib/python3.8/site-packages/torch/utils/data/_utils/fetch.py:51\u001b[0m, in \u001b[0;36m_MapDatasetFetcher.fetch\u001b[0;34m(self, possibly_batched_index)\u001b[0m\n\u001b[1;32m     49\u001b[0m         data \u001b[38;5;241m=\u001b[39m \u001b[38;5;28mself\u001b[39m\u001b[38;5;241m.\u001b[39mdataset\u001b[38;5;241m.\u001b[39m__getitems__(possibly_batched_index)\n\u001b[1;32m     50\u001b[0m     \u001b[38;5;28;01melse\u001b[39;00m:\n\u001b[0;32m---> 51\u001b[0m         data \u001b[38;5;241m=\u001b[39m [\u001b[38;5;28mself\u001b[39m\u001b[38;5;241m.\u001b[39mdataset[idx] \u001b[38;5;28;01mfor\u001b[39;00m idx \u001b[38;5;129;01min\u001b[39;00m possibly_batched_index]\n\u001b[1;32m     52\u001b[0m \u001b[38;5;28;01melse\u001b[39;00m:\n\u001b[1;32m     53\u001b[0m     data \u001b[38;5;241m=\u001b[39m \u001b[38;5;28mself\u001b[39m\u001b[38;5;241m.\u001b[39mdataset[possibly_batched_index]\n",
      "File \u001b[0;32m~/notebook/venv/lib/python3.8/site-packages/torch/utils/data/_utils/fetch.py:51\u001b[0m, in \u001b[0;36m<listcomp>\u001b[0;34m(.0)\u001b[0m\n\u001b[1;32m     49\u001b[0m         data \u001b[38;5;241m=\u001b[39m \u001b[38;5;28mself\u001b[39m\u001b[38;5;241m.\u001b[39mdataset\u001b[38;5;241m.\u001b[39m__getitems__(possibly_batched_index)\n\u001b[1;32m     50\u001b[0m     \u001b[38;5;28;01melse\u001b[39;00m:\n\u001b[0;32m---> 51\u001b[0m         data \u001b[38;5;241m=\u001b[39m [\u001b[38;5;28;43mself\u001b[39;49m\u001b[38;5;241;43m.\u001b[39;49m\u001b[43mdataset\u001b[49m\u001b[43m[\u001b[49m\u001b[43midx\u001b[49m\u001b[43m]\u001b[49m \u001b[38;5;28;01mfor\u001b[39;00m idx \u001b[38;5;129;01min\u001b[39;00m possibly_batched_index]\n\u001b[1;32m     52\u001b[0m \u001b[38;5;28;01melse\u001b[39;00m:\n\u001b[1;32m     53\u001b[0m     data \u001b[38;5;241m=\u001b[39m \u001b[38;5;28mself\u001b[39m\u001b[38;5;241m.\u001b[39mdataset[possibly_batched_index]\n",
      "Cell \u001b[0;32mIn[21], line 11\u001b[0m, in \u001b[0;36mCustomDataset.__getitem__\u001b[0;34m(self, idx)\u001b[0m\n\u001b[1;32m      9\u001b[0m \u001b[38;5;28;01mdef\u001b[39;00m \u001b[38;5;21m__getitem__\u001b[39m(\u001b[38;5;28mself\u001b[39m, idx):\n\u001b[1;32m     10\u001b[0m     label \u001b[38;5;241m=\u001b[39m \u001b[38;5;28mself\u001b[39m\u001b[38;5;241m.\u001b[39mlabels[idx] \u001b[38;5;28;01mif\u001b[39;00m using\u001b[38;5;241m==\u001b[39m\u001b[38;5;124m\"\u001b[39m\u001b[38;5;124mjson\u001b[39m\u001b[38;5;124m\"\u001b[39m \u001b[38;5;28;01melse\u001b[39;00m \u001b[38;5;28mself\u001b[39m\u001b[38;5;241m.\u001b[39mlabels\u001b[38;5;241m.\u001b[39miloc[idx]\n\u001b[0;32m---> 11\u001b[0m     point_cloud_data \u001b[38;5;241m=\u001b[39m \u001b[43mreadPCDFile\u001b[49m\u001b[43m(\u001b[49m\u001b[43mlabel\u001b[49m\u001b[43m[\u001b[49m\u001b[38;5;124;43m'\u001b[39;49m\u001b[38;5;124;43mtime\u001b[39;49m\u001b[38;5;124;43m'\u001b[39;49m\u001b[43m]\u001b[49m\u001b[43m)\u001b[49m\n\u001b[1;32m     12\u001b[0m     label_data\u001b[38;5;241m=\u001b[39mtorch\u001b[38;5;241m.\u001b[39mtensor(label[\u001b[38;5;124m'\u001b[39m\u001b[38;5;124mchair\u001b[39m\u001b[38;5;124m'\u001b[39m],device\u001b[38;5;241m=\u001b[39mdevice)\n\u001b[1;32m     13\u001b[0m     \u001b[38;5;28;01mreturn\u001b[39;00m [point_cloud_data, label_data]\n",
      "Cell \u001b[0;32mIn[20], line 8\u001b[0m, in \u001b[0;36mreadPCDFile\u001b[0;34m(fileName)\u001b[0m\n\u001b[1;32m      6\u001b[0m \u001b[38;5;66;03m#     pcd_path = f\"data_set/{fileName}.pcd\"\u001b[39;00m\n\u001b[1;32m      7\u001b[0m     pcd_path \u001b[38;5;241m=\u001b[39m \u001b[38;5;124mf\u001b[39m\u001b[38;5;124m\"\u001b[39m\u001b[38;5;124mfull_dataset/pcd/\u001b[39m\u001b[38;5;132;01m{\u001b[39;00mfileName\u001b[38;5;132;01m}\u001b[39;00m\u001b[38;5;124m.pcd\u001b[39m\u001b[38;5;124m\"\u001b[39m\n\u001b[0;32m----> 8\u001b[0m     point_cloud \u001b[38;5;241m=\u001b[39m \u001b[43mo3d\u001b[49m\u001b[38;5;241;43m.\u001b[39;49m\u001b[43mio\u001b[49m\u001b[38;5;241;43m.\u001b[39;49m\u001b[43mread_point_cloud\u001b[49m\u001b[43m(\u001b[49m\u001b[43mpcd_path\u001b[49m\u001b[43m)\u001b[49m\n\u001b[1;32m      9\u001b[0m     point_cloud \u001b[38;5;241m=\u001b[39m point_cloud\u001b[38;5;241m.\u001b[39mvoxel_down_sample(voxel_size\u001b[38;5;241m=\u001b[39m\u001b[38;5;241m0.086\u001b[39m)\n\u001b[1;32m     10\u001b[0m     output\u001b[38;5;241m=\u001b[39mtorch\u001b[38;5;241m.\u001b[39mfrom_numpy(np\u001b[38;5;241m.\u001b[39masarray(point_cloud\u001b[38;5;241m.\u001b[39mpoints))\u001b[38;5;241m.\u001b[39mfloat()\n",
      "\u001b[0;31mKeyboardInterrupt\u001b[0m: "
     ]
    }
   ],
   "source": [
    "import matplotlib.pyplot as plt\n",
    "\n",
    "loss_values = []\n",
    "loss_values_boxes = []\n",
    "\n",
    "\n",
    "print(\"Training Starting\")\n",
    "\n",
    "for epoch in range(500):\n",
    "    running_loss = 0.0\n",
    "    running_loss_boxes = 0.0\n",
    "    \n",
    "    \n",
    "    for i, _data in enumerate(dataset_loader, 0):\n",
    "        try:\n",
    "            inputs, labels = _data\n",
    "            optimizer.zero_grad()\n",
    "            prob, boxes = model(inputs.transpose(1, 2))\n",
    "            loss_boxes = criterion(boxes, pad_labels(labels.float()))\n",
    "            \n",
    "            \n",
    "\n",
    "            prob_test = np.zeros((1, 10))\n",
    "            prob_test[0, :len(labels[0])] = 1 / (len(labels[0]) if len(labels[0])>0 else 1 )\n",
    "        \n",
    "            prob_loss_predicted = (prob>0.2).to(dtype=torch.float32)\n",
    "            prob_loss_gTruth = torch.tensor(prob_test, device=device,dtype=torch.float32)\n",
    "            \n",
    "            prob_loss_predicted.requires_grad=True\n",
    "            prob_loss_gTruth.requires_grad=True\n",
    "            \n",
    "            \n",
    "            loss_prob = criterion_prob(prob_loss_predicted, prob_loss_gTruth)\n",
    "            \n",
    "            loss_prob.backward()\n",
    "            loss_boxes.backward()\n",
    "            optimizer.step()\n",
    "    \n",
    "            running_loss += loss_prob.item()\n",
    "            running_loss_boxes += loss_boxes.item()\n",
    "        \n",
    "            \n",
    "        \n",
    "        except:\n",
    "            print(\"Exception Occured at \"+i)\n",
    "            pass\n",
    "        \n",
    "    # Update statistics\n",
    "    loss_values.append(running_loss/len(dataset_loader.dataset))\n",
    "    loss_values_boxes.append(running_loss_boxes/len(dataset_loader.dataset))\n",
    "    \n",
    "    if epoch % 1 == 0:  # Print every 10 mini-batches\n",
    "        print(f'[{epoch+1} / 500] Losses (Probability/Boxes) : {running_loss/len(dataset_loader.dataset)} / {running_loss_boxes/len(dataset_loader.dataset)}',end=\"\\r\",flush=True)\n",
    "#         print('[%d / 100] Loss Probability/Boxes: %.3f\\n[%d / 100] Loss Boxes: %.3f' % (epoch + 1, running_loss/len(dataset_loader.dataset), epoch + 1, running_loss_boxes/len(dataset_loader.dataset)))\n",
    "\n",
    "\n",
    "plt.figure(figsize=(12, 6))\n",
    "\n",
    "plt.subplot(1, 2, 1)\n",
    "plt.plot(loss_values, label='Training Loss (Probability)')\n",
    "plt.xlabel('Epoch')\n",
    "plt.ylabel('Loss')\n",
    "plt.title('Training Loss (Probability)')\n",
    "plt.legend()\n",
    "\n",
    "plt.subplot(1, 2, 2)\n",
    "plt.plot(loss_values_boxes, label='Training Loss (Boxes)')\n",
    "plt.xlabel('Epoch')\n",
    "plt.ylabel('Loss')\n",
    "plt.title('Training Loss (Boxes)')\n",
    "plt.legend()\n",
    "\n",
    "plt.tight_layout()\n",
    "plt.show()\n",
    "\n",
    "\n",
    "print('Finished Training')\n"
   ]
  },
  {
   "cell_type": "code",
   "execution_count": 28,
   "id": "4aae8b8e",
   "metadata": {},
   "outputs": [],
   "source": [
    "#Save Model\n",
    "torch.save(model, \"trained_models/deepNeuralNetwork_chair_half.pth\")\n"
   ]
  },
  {
   "cell_type": "code",
   "execution_count": 32,
   "id": "9a31c3fd",
   "metadata": {},
   "outputs": [
    {
     "ename": "RuntimeError",
     "evalue": "CUDA error: unspecified launch failure\nCUDA kernel errors might be asynchronously reported at some other API call, so the stacktrace below might be incorrect.\nFor debugging consider passing CUDA_LAUNCH_BLOCKING=1.\nCompile with `TORCH_USE_CUDA_DSA` to enable device-side assertions.\n",
     "output_type": "error",
     "traceback": [
      "\u001b[0;31m---------------------------------------------------------------------------\u001b[0m",
      "\u001b[0;31mRuntimeError\u001b[0m                              Traceback (most recent call last)",
      "Cell \u001b[0;32mIn[32], line 2\u001b[0m\n\u001b[1;32m      1\u001b[0m \u001b[38;5;66;03m# Load Model\u001b[39;00m\n\u001b[0;32m----> 2\u001b[0m model \u001b[38;5;241m=\u001b[39m \u001b[43mtorch\u001b[49m\u001b[38;5;241;43m.\u001b[39;49m\u001b[43mload\u001b[49m\u001b[43m(\u001b[49m\u001b[38;5;124;43m\"\u001b[39;49m\u001b[38;5;124;43mtrained_models/deepNeuralNetwork_chair_half.pth\u001b[39;49m\u001b[38;5;124;43m\"\u001b[39;49m\u001b[43m)\u001b[49m\n",
      "File \u001b[0;32m~/notebook/venv/lib/python3.8/site-packages/torch/serialization.py:1026\u001b[0m, in \u001b[0;36mload\u001b[0;34m(f, map_location, pickle_module, weights_only, mmap, **pickle_load_args)\u001b[0m\n\u001b[1;32m   1024\u001b[0m             \u001b[38;5;28;01mexcept\u001b[39;00m \u001b[38;5;167;01mRuntimeError\u001b[39;00m \u001b[38;5;28;01mas\u001b[39;00m e:\n\u001b[1;32m   1025\u001b[0m                 \u001b[38;5;28;01mraise\u001b[39;00m pickle\u001b[38;5;241m.\u001b[39mUnpicklingError(UNSAFE_MESSAGE \u001b[38;5;241m+\u001b[39m \u001b[38;5;28mstr\u001b[39m(e)) \u001b[38;5;28;01mfrom\u001b[39;00m \u001b[38;5;28;01mNone\u001b[39;00m\n\u001b[0;32m-> 1026\u001b[0m         \u001b[38;5;28;01mreturn\u001b[39;00m \u001b[43m_load\u001b[49m\u001b[43m(\u001b[49m\u001b[43mopened_zipfile\u001b[49m\u001b[43m,\u001b[49m\n\u001b[1;32m   1027\u001b[0m \u001b[43m                     \u001b[49m\u001b[43mmap_location\u001b[49m\u001b[43m,\u001b[49m\n\u001b[1;32m   1028\u001b[0m \u001b[43m                     \u001b[49m\u001b[43mpickle_module\u001b[49m\u001b[43m,\u001b[49m\n\u001b[1;32m   1029\u001b[0m \u001b[43m                     \u001b[49m\u001b[43moverall_storage\u001b[49m\u001b[38;5;241;43m=\u001b[39;49m\u001b[43moverall_storage\u001b[49m\u001b[43m,\u001b[49m\n\u001b[1;32m   1030\u001b[0m \u001b[43m                     \u001b[49m\u001b[38;5;241;43m*\u001b[39;49m\u001b[38;5;241;43m*\u001b[39;49m\u001b[43mpickle_load_args\u001b[49m\u001b[43m)\u001b[49m\n\u001b[1;32m   1031\u001b[0m \u001b[38;5;28;01mif\u001b[39;00m mmap:\n\u001b[1;32m   1032\u001b[0m     \u001b[38;5;28;01mraise\u001b[39;00m \u001b[38;5;167;01mRuntimeError\u001b[39;00m(\u001b[38;5;124m\"\u001b[39m\u001b[38;5;124mmmap can only be used with files saved with \u001b[39m\u001b[38;5;124m\"\u001b[39m\n\u001b[1;32m   1033\u001b[0m                        \u001b[38;5;124m\"\u001b[39m\u001b[38;5;124m`torch.save(_use_new_zipfile_serialization=True), \u001b[39m\u001b[38;5;124m\"\u001b[39m\n\u001b[1;32m   1034\u001b[0m                        \u001b[38;5;124m\"\u001b[39m\u001b[38;5;124mplease torch.save your checkpoint with this option in order to use mmap.\u001b[39m\u001b[38;5;124m\"\u001b[39m)\n",
      "File \u001b[0;32m~/notebook/venv/lib/python3.8/site-packages/torch/serialization.py:1438\u001b[0m, in \u001b[0;36m_load\u001b[0;34m(zip_file, map_location, pickle_module, pickle_file, overall_storage, **pickle_load_args)\u001b[0m\n\u001b[1;32m   1436\u001b[0m unpickler \u001b[38;5;241m=\u001b[39m UnpicklerWrapper(data_file, \u001b[38;5;241m*\u001b[39m\u001b[38;5;241m*\u001b[39mpickle_load_args)\n\u001b[1;32m   1437\u001b[0m unpickler\u001b[38;5;241m.\u001b[39mpersistent_load \u001b[38;5;241m=\u001b[39m persistent_load\n\u001b[0;32m-> 1438\u001b[0m result \u001b[38;5;241m=\u001b[39m \u001b[43munpickler\u001b[49m\u001b[38;5;241;43m.\u001b[39;49m\u001b[43mload\u001b[49m\u001b[43m(\u001b[49m\u001b[43m)\u001b[49m\n\u001b[1;32m   1440\u001b[0m torch\u001b[38;5;241m.\u001b[39m_utils\u001b[38;5;241m.\u001b[39m_validate_loaded_sparse_tensors()\n\u001b[1;32m   1441\u001b[0m torch\u001b[38;5;241m.\u001b[39m_C\u001b[38;5;241m.\u001b[39m_log_api_usage_metadata(\n\u001b[1;32m   1442\u001b[0m     \u001b[38;5;124m\"\u001b[39m\u001b[38;5;124mtorch.load.metadata\u001b[39m\u001b[38;5;124m\"\u001b[39m, {\u001b[38;5;124m\"\u001b[39m\u001b[38;5;124mserialization_id\u001b[39m\u001b[38;5;124m\"\u001b[39m: zip_file\u001b[38;5;241m.\u001b[39mserialization_id()}\n\u001b[1;32m   1443\u001b[0m )\n",
      "File \u001b[0;32m~/notebook/venv/lib/python3.8/site-packages/torch/serialization.py:1408\u001b[0m, in \u001b[0;36m_load.<locals>.persistent_load\u001b[0;34m(saved_id)\u001b[0m\n\u001b[1;32m   1406\u001b[0m \u001b[38;5;28;01melse\u001b[39;00m:\n\u001b[1;32m   1407\u001b[0m     nbytes \u001b[38;5;241m=\u001b[39m numel \u001b[38;5;241m*\u001b[39m torch\u001b[38;5;241m.\u001b[39m_utils\u001b[38;5;241m.\u001b[39m_element_size(dtype)\n\u001b[0;32m-> 1408\u001b[0m     typed_storage \u001b[38;5;241m=\u001b[39m \u001b[43mload_tensor\u001b[49m\u001b[43m(\u001b[49m\u001b[43mdtype\u001b[49m\u001b[43m,\u001b[49m\u001b[43m \u001b[49m\u001b[43mnbytes\u001b[49m\u001b[43m,\u001b[49m\u001b[43m \u001b[49m\u001b[43mkey\u001b[49m\u001b[43m,\u001b[49m\u001b[43m \u001b[49m\u001b[43m_maybe_decode_ascii\u001b[49m\u001b[43m(\u001b[49m\u001b[43mlocation\u001b[49m\u001b[43m)\u001b[49m\u001b[43m)\u001b[49m\n\u001b[1;32m   1410\u001b[0m \u001b[38;5;28;01mreturn\u001b[39;00m typed_storage\n",
      "File \u001b[0;32m~/notebook/venv/lib/python3.8/site-packages/torch/serialization.py:1382\u001b[0m, in \u001b[0;36m_load.<locals>.load_tensor\u001b[0;34m(dtype, numel, key, location)\u001b[0m\n\u001b[1;32m   1377\u001b[0m         storage\u001b[38;5;241m.\u001b[39mbyteswap(dtype)\n\u001b[1;32m   1379\u001b[0m \u001b[38;5;66;03m# TODO: Once we decide to break serialization FC, we can\u001b[39;00m\n\u001b[1;32m   1380\u001b[0m \u001b[38;5;66;03m# stop wrapping with TypedStorage\u001b[39;00m\n\u001b[1;32m   1381\u001b[0m typed_storage \u001b[38;5;241m=\u001b[39m torch\u001b[38;5;241m.\u001b[39mstorage\u001b[38;5;241m.\u001b[39mTypedStorage(\n\u001b[0;32m-> 1382\u001b[0m     wrap_storage\u001b[38;5;241m=\u001b[39m\u001b[43mrestore_location\u001b[49m\u001b[43m(\u001b[49m\u001b[43mstorage\u001b[49m\u001b[43m,\u001b[49m\u001b[43m \u001b[49m\u001b[43mlocation\u001b[49m\u001b[43m)\u001b[49m,\n\u001b[1;32m   1383\u001b[0m     dtype\u001b[38;5;241m=\u001b[39mdtype,\n\u001b[1;32m   1384\u001b[0m     _internal\u001b[38;5;241m=\u001b[39m\u001b[38;5;28;01mTrue\u001b[39;00m)\n\u001b[1;32m   1386\u001b[0m \u001b[38;5;28;01mif\u001b[39;00m typed_storage\u001b[38;5;241m.\u001b[39m_data_ptr() \u001b[38;5;241m!=\u001b[39m \u001b[38;5;241m0\u001b[39m:\n\u001b[1;32m   1387\u001b[0m     loaded_storages[key] \u001b[38;5;241m=\u001b[39m typed_storage\n",
      "File \u001b[0;32m~/notebook/venv/lib/python3.8/site-packages/torch/serialization.py:391\u001b[0m, in \u001b[0;36mdefault_restore_location\u001b[0;34m(storage, location)\u001b[0m\n\u001b[1;32m    389\u001b[0m \u001b[38;5;28;01mdef\u001b[39;00m \u001b[38;5;21mdefault_restore_location\u001b[39m(storage, location):\n\u001b[1;32m    390\u001b[0m     \u001b[38;5;28;01mfor\u001b[39;00m _, _, fn \u001b[38;5;129;01min\u001b[39;00m _package_registry:\n\u001b[0;32m--> 391\u001b[0m         result \u001b[38;5;241m=\u001b[39m \u001b[43mfn\u001b[49m\u001b[43m(\u001b[49m\u001b[43mstorage\u001b[49m\u001b[43m,\u001b[49m\u001b[43m \u001b[49m\u001b[43mlocation\u001b[49m\u001b[43m)\u001b[49m\n\u001b[1;32m    392\u001b[0m         \u001b[38;5;28;01mif\u001b[39;00m result \u001b[38;5;129;01mis\u001b[39;00m \u001b[38;5;129;01mnot\u001b[39;00m \u001b[38;5;28;01mNone\u001b[39;00m:\n\u001b[1;32m    393\u001b[0m             \u001b[38;5;28;01mreturn\u001b[39;00m result\n",
      "File \u001b[0;32m~/notebook/venv/lib/python3.8/site-packages/torch/serialization.py:271\u001b[0m, in \u001b[0;36m_cuda_deserialize\u001b[0;34m(obj, location)\u001b[0m\n\u001b[1;32m    269\u001b[0m         \u001b[38;5;28;01mreturn\u001b[39;00m torch\u001b[38;5;241m.\u001b[39mUntypedStorage(obj\u001b[38;5;241m.\u001b[39mnbytes(), device\u001b[38;5;241m=\u001b[39mtorch\u001b[38;5;241m.\u001b[39mdevice(location))\n\u001b[1;32m    270\u001b[0m \u001b[38;5;28;01melse\u001b[39;00m:\n\u001b[0;32m--> 271\u001b[0m     \u001b[38;5;28;01mreturn\u001b[39;00m \u001b[43mobj\u001b[49m\u001b[38;5;241;43m.\u001b[39;49m\u001b[43mcuda\u001b[49m\u001b[43m(\u001b[49m\u001b[43mdevice\u001b[49m\u001b[43m)\u001b[49m\n",
      "File \u001b[0;32m~/notebook/venv/lib/python3.8/site-packages/torch/_utils.py:118\u001b[0m, in \u001b[0;36m_cuda\u001b[0;34m(self, device, non_blocking, **kwargs)\u001b[0m\n\u001b[1;32m    114\u001b[0m \u001b[38;5;28;01melse\u001b[39;00m:\n\u001b[1;32m    115\u001b[0m     untyped_storage \u001b[38;5;241m=\u001b[39m torch\u001b[38;5;241m.\u001b[39mUntypedStorage(\n\u001b[1;32m    116\u001b[0m         \u001b[38;5;28mself\u001b[39m\u001b[38;5;241m.\u001b[39msize(), device\u001b[38;5;241m=\u001b[39mtorch\u001b[38;5;241m.\u001b[39mdevice(\u001b[38;5;124m\"\u001b[39m\u001b[38;5;124mcuda\u001b[39m\u001b[38;5;124m\"\u001b[39m)\n\u001b[1;32m    117\u001b[0m     )\n\u001b[0;32m--> 118\u001b[0m     \u001b[43muntyped_storage\u001b[49m\u001b[38;5;241;43m.\u001b[39;49m\u001b[43mcopy_\u001b[49m\u001b[43m(\u001b[49m\u001b[38;5;28;43mself\u001b[39;49m\u001b[43m,\u001b[49m\u001b[43m \u001b[49m\u001b[43mnon_blocking\u001b[49m\u001b[43m)\u001b[49m\n\u001b[1;32m    119\u001b[0m     \u001b[38;5;28;01mreturn\u001b[39;00m untyped_storage\n",
      "\u001b[0;31mRuntimeError\u001b[0m: CUDA error: unspecified launch failure\nCUDA kernel errors might be asynchronously reported at some other API call, so the stacktrace below might be incorrect.\nFor debugging consider passing CUDA_LAUNCH_BLOCKING=1.\nCompile with `TORCH_USE_CUDA_DSA` to enable device-side assertions.\n"
     ]
    }
   ],
   "source": [
    "# Load Model\n",
    "model = torch.load(\"trained_models/deepNeuralNetwork_chair_half.pth\")"
   ]
  },
  {
   "cell_type": "markdown",
   "id": "1bea9c72",
   "metadata": {},
   "source": [
    "## Validation"
   ]
  },
  {
   "cell_type": "code",
   "execution_count": 29,
   "id": "0c3b9d77",
   "metadata": {},
   "outputs": [
    {
     "data": {
      "text/html": [
       "<div>\n",
       "<style scoped>\n",
       "    .dataframe tbody tr th:only-of-type {\n",
       "        vertical-align: middle;\n",
       "    }\n",
       "\n",
       "    .dataframe tbody tr th {\n",
       "        vertical-align: top;\n",
       "    }\n",
       "\n",
       "    .dataframe thead th {\n",
       "        text-align: right;\n",
       "    }\n",
       "</style>\n",
       "<table border=\"1\" class=\"dataframe\">\n",
       "  <thead>\n",
       "    <tr style=\"text-align: right;\">\n",
       "      <th></th>\n",
       "      <th>time</th>\n",
       "      <th>chair</th>\n",
       "      <th>stool</th>\n",
       "      <th>table</th>\n",
       "      <th>wall</th>\n",
       "    </tr>\n",
       "  </thead>\n",
       "  <tbody>\n",
       "    <tr>\n",
       "      <th>0</th>\n",
       "      <td>00:00.00000</td>\n",
       "      <td>[[-0.1140332378, -1.0363261758, 0.0844578892, ...</td>\n",
       "      <td>[[2.1505855001, -1.4536903501, 0.1369566768, 1...</td>\n",
       "      <td>[[0.1156135214, -2.2455869696, 0.1178784221, 1...</td>\n",
       "      <td>[[0.6850594638, -4.899301481, 0.11792199310000...</td>\n",
       "    </tr>\n",
       "    <tr>\n",
       "      <th>1</th>\n",
       "      <td>00:00.08103</td>\n",
       "      <td>[[-0.1087164686, -1.0356720574, 0.0847318111, ...</td>\n",
       "      <td>[[2.1473772297, -1.4468101854, 0.1367251761, 1...</td>\n",
       "      <td>[[0.1152638103, -2.2443210638, 0.117856133, 1....</td>\n",
       "      <td>[[0.6831968255, -4.8999852361, 0.1179998067, 3...</td>\n",
       "    </tr>\n",
       "    <tr>\n",
       "      <th>2</th>\n",
       "      <td>00:00.15946</td>\n",
       "      <td>[[-0.1033996995, -1.035017939, 0.085005733, 1....</td>\n",
       "      <td>[[2.1441689593, -1.4399300207, 0.1364936754000...</td>\n",
       "      <td>[[0.11491409920000001, -2.243055158, 0.1178338...</td>\n",
       "      <td>[[0.6813341873000001, -4.9006689912, 0.1180776...</td>\n",
       "    </tr>\n",
       "    <tr>\n",
       "      <th>3</th>\n",
       "      <td>00:00.23964</td>\n",
       "      <td>[[-0.09808293030000001, -1.0343638205, 0.08527...</td>\n",
       "      <td>[[2.1409606889, -1.4330498561, 0.1362621746, 1...</td>\n",
       "      <td>[[0.114564388, -2.2417892522, 0.1178115547, 1....</td>\n",
       "      <td>[[0.6794715490000001, -4.9013527463, 0.1181554...</td>\n",
       "    </tr>\n",
       "    <tr>\n",
       "      <th>4</th>\n",
       "      <td>00:00.31915</td>\n",
       "      <td>[[-0.09276616110000001, -1.0337097021, 0.08555...</td>\n",
       "      <td>[[2.1377524185, -1.4261696914, 0.1360306739, 1...</td>\n",
       "      <td>[[0.1142146769, -2.2405233464, 0.1177892655, 1...</td>\n",
       "      <td>[[0.6776089108000001, -4.9020365014, 0.1182332...</td>\n",
       "    </tr>\n",
       "  </tbody>\n",
       "</table>\n",
       "</div>"
      ],
      "text/plain": [
       "          time                                              chair  \\\n",
       "0  00:00.00000  [[-0.1140332378, -1.0363261758, 0.0844578892, ...   \n",
       "1  00:00.08103  [[-0.1087164686, -1.0356720574, 0.0847318111, ...   \n",
       "2  00:00.15946  [[-0.1033996995, -1.035017939, 0.085005733, 1....   \n",
       "3  00:00.23964  [[-0.09808293030000001, -1.0343638205, 0.08527...   \n",
       "4  00:00.31915  [[-0.09276616110000001, -1.0337097021, 0.08555...   \n",
       "\n",
       "                                               stool  \\\n",
       "0  [[2.1505855001, -1.4536903501, 0.1369566768, 1...   \n",
       "1  [[2.1473772297, -1.4468101854, 0.1367251761, 1...   \n",
       "2  [[2.1441689593, -1.4399300207, 0.1364936754000...   \n",
       "3  [[2.1409606889, -1.4330498561, 0.1362621746, 1...   \n",
       "4  [[2.1377524185, -1.4261696914, 0.1360306739, 1...   \n",
       "\n",
       "                                               table  \\\n",
       "0  [[0.1156135214, -2.2455869696, 0.1178784221, 1...   \n",
       "1  [[0.1152638103, -2.2443210638, 0.117856133, 1....   \n",
       "2  [[0.11491409920000001, -2.243055158, 0.1178338...   \n",
       "3  [[0.114564388, -2.2417892522, 0.1178115547, 1....   \n",
       "4  [[0.1142146769, -2.2405233464, 0.1177892655, 1...   \n",
       "\n",
       "                                                wall  \n",
       "0  [[0.6850594638, -4.899301481, 0.11792199310000...  \n",
       "1  [[0.6831968255, -4.8999852361, 0.1179998067, 3...  \n",
       "2  [[0.6813341873000001, -4.9006689912, 0.1180776...  \n",
       "3  [[0.6794715490000001, -4.9013527463, 0.1181554...  \n",
       "4  [[0.6776089108000001, -4.9020365014, 0.1182332...  "
      ]
     },
     "execution_count": 29,
     "metadata": {},
     "output_type": "execute_result"
    }
   ],
   "source": [
    "val_data_file = \"val_converted.json\"\n",
    "val_data = pd.read_json(data_file)\n",
    "val_data.head()"
   ]
  },
  {
   "cell_type": "code",
   "execution_count": 30,
   "id": "8a9e0baa",
   "metadata": {},
   "outputs": [],
   "source": [
    "# Validation Dataset Loader\n",
    "\n",
    "val_dataset = CustomDataset(data=val_data,path=\"full_dataset/pcd_val/\")\n",
    "val_dataset_loader = DataLoader(dataset, batch_size=1, shuffle=True)\n"
   ]
  },
  {
   "cell_type": "code",
   "execution_count": 21,
   "id": "e13764fb",
   "metadata": {},
   "outputs": [
    {
     "name": "stdout",
     "output_type": "stream",
     "text": [
      "Validation Accuracy: 87 %\n",
      "Validation Loss: 13.908807645936793\n"
     ]
    },
    {
     "data": {
      "image/png": "[encoded data removed]",
      "text/plain": [
       "<Figure size 640x480 with 1 Axes>"
      ]
     },
     "metadata": {},
     "output_type": "display_data"
    }
   ],
   "source": [
    "correct = 0                                               \n",
    "total = 0                                                 \n",
    "running_loss = 0.0                                        \n",
    "model.eval()  \n",
    "validation_loss=[]\n",
    "validation_accurancy=[]\n",
    "validation_accurancy_roi=[]\n",
    "\n",
    "\n",
    "with torch.no_grad():                                     \n",
    "    for Ti, _Tdata in enumerate(test_dataset_loader):                     \n",
    "        inputs, labels = _Tdata  \n",
    "        \n",
    "        prob, boxes = model(inputs.transpose(1, 2))\n",
    "        \n",
    "        label_boxes = pad_labels(labels.float())\n",
    "        \n",
    "        loss = criterion(boxes, label_boxes)\n",
    "        \n",
    "        prob_test = np.zeros((1, 10))\n",
    "        prob_test[0, :len(labels[0])] = 1 / (len(labels[0]) if len(labels[0])>0 else 1 )\n",
    "        \n",
    "        loss_prob = criterion_prob(prob, torch.tensor(prob_test, device=device))\n",
    "        total_loss =  loss_prob+loss    \n",
    "        \n",
    "        validation_loss.append(loss.item())\n",
    "\n",
    "        _, predicted = torch.max(prob, 1)         \n",
    "        total += 10\n",
    "        correct += (predicted ==  torch.tensor(prob_test, device=device)).sum().item()\n",
    "        \n",
    "        cost_roi=(boxes-label_boxes).sum()\n",
    "        \n",
    "        validation_accurancy_roi.append(cost_roi.item())\n",
    "        \n",
    "        validation_accurancy.append(100 * correct / total)\n",
    "        \n",
    "        running_loss = running_loss + loss_prob.item()         \n",
    "mean_val_accuracy = (100 * correct / total)               \n",
    "mean_val_loss = ( running_loss )                  \n",
    "#mean_val_accuracy = accuracy(outputs,labels)             \n",
    "print('Validation Accuracy: %d %%' % (mean_val_accuracy)) \n",
    "print('Validation Loss:'  ,mean_val_loss /100)  \n",
    "\n",
    "\n",
    "\n",
    "# Plot the loss function\n",
    "# plt.plot(validation_loss, label='Validation Loss')\n",
    "plt.plot(validation_accurancy, label='Validation Accurancy')\n",
    "plt.xlabel('Iteration')\n",
    "plt.ylabel('Percentage')\n",
    "plt.title('Validation')\n",
    "plt.legend()\n",
    "plt.show()\n",
    "\n",
    "\n"
   ]
  },
  {
   "cell_type": "code",
   "execution_count": 41,
   "id": "39056d3f",
   "metadata": {},
   "outputs": [
    {
     "name": "stdout",
     "output_type": "stream",
     "text": [
      "[0.0676340505, -3.2028266078, 0.12399039120000001, 1.2830309502000001, 1.4156091526, 0.7015994852, 0, 0, 41.9359823501]\n",
      "tensor([ 0.5573,  0.1695, -0.2005,  0.4081,  0.3391, -1.1379,  0.0603, -0.3309,\n",
      "         9.1524], device='cuda:0')\n"
     ]
    }
   ],
   "source": [
    "model.eval()\n",
    "with torch.no_grad():\n",
    "    time_val = data[\"time\"][130]\n",
    "    pc=readPCDFile(time_val)\n",
    "    point_cloud = o3d.geometry.PointCloud()\n",
    "    point_cloud.points = o3d.utility.Vector3dVector(pc.cpu().numpy())\n",
    "    \n",
    "    label=data[\"chair\"][130]\n",
    "    print(label[0])\n",
    "#     o3d.visualization.draw_geometries([point_cloud])\n",
    "    prob,boxes = model(pc.unsqueeze(0).transpose(1,2))\n",
    "    print(boxes[0][0])\n"
   ]
  },
  {
   "cell_type": "code",
   "execution_count": 31,
   "id": "2bc80536",
   "metadata": {},
   "outputs": [
    {
     "data": {
      "text/plain": [
       "'00:00.95905'"
      ]
     },
     "execution_count": 31,
     "metadata": {},
     "output_type": "execute_result"
    }
   ],
   "source": [
    "data[\"time\"][12]"
   ]
  },
  {
   "cell_type": "code",
   "execution_count": 32,
   "id": "daa03aea",
   "metadata": {},
   "outputs": [],
   "source": [
    "import open3d as o3d\n",
    "import numpy as np\n",
    "\n",
    "# Assuming you have your point cloud data in a NumPy array called 'point_cloud_data'\n",
    "# Replace this with your actual point cloud data\n",
    "# point_cloud_data = ...\n",
    "\n",
    "# Create an Open3D PointCloud object\n",
    "point_cloud = o3d.geometry.PointCloud()\n",
    "\n",
    "# Set the point cloud data\n",
    "# The point cloud data should be a Nx3 NumPy array (N points, each with X, Y, Z coordinates)\n",
    "# For example:\n",
    "# point_cloud.points = o3d.utility.Vector3dVector(point_cloud_data)\n",
    "\n",
    "# Generate a random point cloud for demonstration\n",
    "np.random.seed(0)\n",
    "point_cloud_data = np.random.rand(100, 3)\n",
    "\n",
    "# Set the point cloud data\n",
    "point_cloud.points = o3d.utility.Vector3dVector(point_cloud_data)\n",
    "\n",
    "# Visualize the point cloud\n",
    "o3d.visualization.draw_geometries([point_cloud])\n"
   ]
  },
  {
   "cell_type": "code",
   "execution_count": 40,
   "id": "7e1acf6a",
   "metadata": {},
   "outputs": [
    {
     "name": "stdout",
     "output_type": "stream",
     "text": [
      "Binary Cross-Entropy Loss: 100.0\n"
     ]
    }
   ],
   "source": [
    "import torch\n",
    "import torch.nn as nn\n",
    "\n",
    "# Assuming your predicted value and ground truth are in tensor format\n",
    "predicted = torch.tensor([[True, False, False, False, False, False, False, False, False, False]], dtype=torch.float32)\n",
    "ground_truth = torch.tensor([[False, True, True, True, True, True, True, True, True, True]], dtype=torch.float32)\n",
    "\n",
    "# Define the loss function\n",
    "criterion = nn.BCELoss()\n",
    "\n",
    "# Compute the loss\n",
    "loss = criterion(predicted, ground_truth)\n",
    "\n",
    "print(\"Binary Cross-Entropy Loss:\", loss.item())"
   ]
  },
  {
   "cell_type": "code",
   "execution_count": null,
   "id": "94095d67",
   "metadata": {},
   "outputs": [],
   "source": []
  }
 ],
 "metadata": {
  "kernelspec": {
   "display_name": "Python 3 (ipykernel)",
   "language": "python",
   "name": "python3"
  },
  "language_info": {
   "codemirror_mode": {
    "name": "ipython",
    "version": 3
   },
   "file_extension": ".py",
   "mimetype": "text/x-python",
   "name": "python",
   "nbconvert_exporter": "python",
   "pygments_lexer": "ipython3",
   "version": "3.8.10"
  }
 },
 "nbformat": 4,
 "nbformat_minor": 5
}
