{
 "cells": [
  {
   "cell_type": "code",
   "execution_count": 53,
   "id": "d0d0be9e",
   "metadata": {},
   "outputs": [],
   "source": [
    "import torch\n",
    "from torch import nn\n",
    "from torch.utils.data import DataLoader\n",
    "from torch.utils.data import Dataset\n",
    "from torchvision import datasets\n",
    "from torchvision.transforms import ToTensor\n",
    "import pandas as pd"
   ]
  },
  {
   "cell_type": "code",
   "execution_count": 54,
   "id": "feef08c8",
   "metadata": {},
   "outputs": [
    {
     "name": "stdout",
     "output_type": "stream",
     "text": [
      "Using cuda device\n"
     ]
    }
   ],
   "source": [
    "# Get cpu, gpu or mps device for training.\n",
    "device = (\n",
    "    \"cuda\"\n",
    "    if torch.cuda.is_available()\n",
    "    else \"mps\"\n",
    "    if torch.backends.mps.is_available()\n",
    "    else \"cpu\"\n",
    ")\n",
    "# device=\"cpu\"\n",
    "print(f\"Using {device} device\")"
   ]
  },
  {
   "cell_type": "code",
   "execution_count": 135,
   "id": "1d9167de",
   "metadata": {},
   "outputs": [
    {
     "name": "stdout",
     "output_type": "stream",
     "text": [
      "Normal :  0.023870468139648438\n",
      "By Open3d :  0.00040078163146972656\n"
     ]
    }
   ],
   "source": [
    "# Downsampling the Point cloud\n",
    "import numpy as np\n",
    "import time\n",
    "\n",
    "\n",
    "def voxel_downsample(point_cloud, voxel_size):\n",
    "    # Find the minimum and maximum bounds of the point cloud\n",
    "    min_bound = np.min(point_cloud, axis=0)\n",
    "    max_bound = np.max(point_cloud, axis=0)\n",
    "    \n",
    "    # Calculate voxel indices\n",
    "    voxel_indices = np.floor_divide(point_cloud - min_bound, voxel_size).astype(int)\n",
    "    \n",
    "    # Create a unique identifier for each voxel\n",
    "    unique_voxels, inverse_indices = np.unique(voxel_indices, axis=0, return_inverse=True)\n",
    "    \n",
    "    # Calculate voxel centroids\n",
    "    voxel_centroids = np.zeros((unique_voxels.shape[0], 3))\n",
    "    voxel_counts = np.zeros(unique_voxels.shape[0])\n",
    "    \n",
    "    for i, voxel_index in enumerate(unique_voxels):\n",
    "        voxel_points = point_cloud[(inverse_indices == i)]\n",
    "        voxel_centroids[i] = np.mean(voxel_points, axis=0)\n",
    "        voxel_counts[i] = len(voxel_points)\n",
    "    \n",
    "    return voxel_centroids, voxel_counts\n",
    "\n",
    "#Helper function to read .pcd File\n",
    "def read_pcd_file(file_path):\n",
    "    \"\"\"\n",
    "    Read a .pcd file and return the point cloud.\n",
    "    \"\"\"\n",
    "    with open(file_path, 'r') as f:\n",
    "        lines = f.readlines()\n",
    "\n",
    "    data_start = False\n",
    "    data = []\n",
    "\n",
    "    for line in lines:\n",
    "        if line.startswith('DATA'):\n",
    "            data_start = True\n",
    "            continue\n",
    "        if data_start:\n",
    "            data.append(list(map(float, line.split())))\n",
    "\n",
    "    point_cloud = np.array(data)\n",
    "\n",
    "    return point_cloud\n",
    "\n",
    "points = np.random.rand(1460, 3)  # Sample point cloud\n",
    "voxel_size = 0.1\n",
    "\n",
    "start=time.time()\n",
    "downsampled_points = voxel_downsample(points, voxel_size)\n",
    "end=time.time()\n",
    "\n",
    "print(\"Normal : \",end-start)\n",
    "\n",
    "\n",
    "\n",
    "start=time.time()\n",
    "point_cloud = o3d.geometry.PointCloud()\n",
    "point_cloud.points = o3d.utility.Vector3dVector(points)\n",
    "downsampled_points = point_cloud.voxel_down_sample(voxel_size=voxel_size)\n",
    "end=time.time()\n",
    "\n",
    "print(\"By Open3d : \",end-start)\n",
    "\n",
    "\n",
    "# print(downsampled_points.shape)"
   ]
  },
  {
   "cell_type": "code",
   "execution_count": 107,
   "id": "59ebf216",
   "metadata": {},
   "outputs": [
    {
     "name": "stdout",
     "output_type": "stream",
     "text": [
      "          time                                              chair  \\\n",
      "0  00:00.00000  [[-0.1140332378, -1.0363261758, 0.0844578892, ...   \n",
      "1  00:00.08103  [[-0.1087164686, -1.0356720574, 0.0847318111, ...   \n",
      "2  00:00.15946  [[-0.1033996995, -1.035017939, 0.085005733, 1....   \n",
      "3  00:00.23964  [[-0.09808293030000001, -1.0343638205, 0.08527...   \n",
      "4  00:00.31915  [[-0.09276616110000001, -1.0337097021, 0.08555...   \n",
      "\n",
      "                                               stool  \\\n",
      "0  [[2.1505855001, -1.4536903501, 0.1369566768, 1...   \n",
      "1  [[2.1473772297, -1.4468101854, 0.1367251761, 1...   \n",
      "2  [[2.1441689593, -1.4399300207, 0.1364936754000...   \n",
      "3  [[2.1409606889, -1.4330498561, 0.1362621746, 1...   \n",
      "4  [[2.1377524185, -1.4261696914, 0.1360306739, 1...   \n",
      "\n",
      "                                               table  \\\n",
      "0  [[0.1156135214, -2.2455869696, 0.1178784221, 1...   \n",
      "1  [[0.1152638103, -2.2443210638, 0.117856133, 1....   \n",
      "2  [[0.11491409920000001, -2.243055158, 0.1178338...   \n",
      "3  [[0.114564388, -2.2417892522, 0.1178115547, 1....   \n",
      "4  [[0.1142146769, -2.2405233464, 0.1177892655, 1...   \n",
      "\n",
      "                                                wall  \n",
      "0  [[0.6850594638, -4.899301481, 0.11792199310000...  \n",
      "1  [[0.6831968255, -4.8999852361, 0.1179998067, 3...  \n",
      "2  [[0.6813341873000001, -4.9006689912, 0.1180776...  \n",
      "3  [[0.6794715490000001, -4.9013527463, 0.1181554...  \n",
      "4  [[0.6776089108000001, -4.9020365014, 0.1182332...  \n"
     ]
    }
   ],
   "source": [
    "import json\n",
    "\n",
    "data=[]\n",
    "\n",
    "# data_file = './labels.json'\n",
    "data_file = './full_dataset/converted.json'\n",
    "\n",
    "using = \"pandas\"\n",
    "\n",
    "\n",
    "if(using==\"json\"):\n",
    "    # Load JSON data from the file\n",
    "    with open(data_file) as f:\n",
    "        data = json.load(f)\n",
    "    print(data[1]['time'])\n",
    "else:\n",
    "    data =pd.read_json(data_file)\n",
    "    print(data.head())"
   ]
  },
  {
   "cell_type": "code",
   "execution_count": 108,
   "id": "9c7ca7c5",
   "metadata": {},
   "outputs": [],
   "source": [
    "#Remove Mis-aligend Files\n",
    "for item in [\"chair\",\"stool\",\"table\",\"wall\"]:\n",
    "    for index,i in enumerate(data[item]):\n",
    "        if type(i)== dict:\n",
    "            data=data.drop(index)"
   ]
  },
  {
   "cell_type": "code",
   "execution_count": 109,
   "id": "30d58128",
   "metadata": {},
   "outputs": [],
   "source": [
    "#Check for mis-alligen Files\n",
    "for item in [\"chair\",\"stool\",\"table\",\"wall\"]:\n",
    "    for index,i in enumerate(data[item]):\n",
    "        if type(i)== dict:\n",
    "            print(index)"
   ]
  },
  {
   "cell_type": "code",
   "execution_count": 143,
   "id": "7ddcb368",
   "metadata": {},
   "outputs": [
    {
     "data": {
      "text/plain": [
       "torch.Size([1600, 3])"
      ]
     },
     "execution_count": 143,
     "metadata": {},
     "output_type": "execute_result"
    }
   ],
   "source": [
    "import open3d as o3d\n",
    "import numpy as np\n",
    "\n",
    "def readPCDFile(fileName):\n",
    "    fileName =fileName.replace(\":\",\"_\")\n",
    "#     pcd_path = f\"data_set/{fileName}.pcd\"\n",
    "    pcd_path = f\"full_dataset/pcd/{fileName}.pcd\"\n",
    "    point_cloud = o3d.io.read_point_cloud(pcd_path)\n",
    "    point_cloud = point_cloud.voxel_down_sample(voxel_size=0.086)\n",
    "    output=torch.from_numpy(np.asarray(point_cloud.points)).float()\n",
    "    output=torch.nn.functional.pad(output, (0, 0, 0, 1600 - output.size(0)))\n",
    "    output = output.to(device=device)\n",
    "    return output\n",
    "readPCDFile(\"00:00.08103\").shape"
   ]
  },
  {
   "cell_type": "code",
   "execution_count": 140,
   "id": "6217dcb4",
   "metadata": {},
   "outputs": [
    {
     "ename": "TypeError",
     "evalue": "expected np.ndarray (got tuple)",
     "output_type": "error",
     "traceback": [
      "\u001b[0;31m---------------------------------------------------------------------------\u001b[0m",
      "\u001b[0;31mTypeError\u001b[0m                                 Traceback (most recent call last)",
      "Cell \u001b[0;32mIn[140], line 17\u001b[0m\n\u001b[1;32m     15\u001b[0m     output \u001b[38;5;241m=\u001b[39m output\u001b[38;5;241m.\u001b[39mto(device\u001b[38;5;241m=\u001b[39mdevice)\n\u001b[1;32m     16\u001b[0m     \u001b[38;5;28;01mreturn\u001b[39;00m output\n\u001b[0;32m---> 17\u001b[0m \u001b[43mreadPCDFile\u001b[49m\u001b[43m(\u001b[49m\u001b[38;5;124;43m\"\u001b[39;49m\u001b[38;5;124;43m00:00.08103\u001b[39;49m\u001b[38;5;124;43m\"\u001b[39;49m\u001b[43m)\u001b[49m\u001b[38;5;241m.\u001b[39mshape\n",
      "Cell \u001b[0;32mIn[140], line 12\u001b[0m, in \u001b[0;36mreadPCDFile\u001b[0;34m(fileName)\u001b[0m\n\u001b[1;32m     10\u001b[0m     point_cloud \u001b[38;5;241m=\u001b[39m voxel_downsample(point_cloud,voxel_size\u001b[38;5;241m=\u001b[39m\u001b[38;5;241m0.086\u001b[39m)\n\u001b[1;32m     11\u001b[0m \u001b[38;5;66;03m#     point_cloud = point_cloud.voxel_down_sample(voxel_size=0.086)\u001b[39;00m\n\u001b[0;32m---> 12\u001b[0m     output\u001b[38;5;241m=\u001b[39m\u001b[43mtorch\u001b[49m\u001b[38;5;241;43m.\u001b[39;49m\u001b[43mfrom_numpy\u001b[49m\u001b[43m(\u001b[49m\u001b[43mpoint_cloud\u001b[49m\u001b[43m)\u001b[49m\u001b[38;5;241m.\u001b[39mfloat()\n\u001b[1;32m     13\u001b[0m \u001b[38;5;66;03m#     output=torch.from_numpy(np.asarray(point_cloud.points)).float()\u001b[39;00m\n\u001b[1;32m     14\u001b[0m     output\u001b[38;5;241m=\u001b[39mtorch\u001b[38;5;241m.\u001b[39mnn\u001b[38;5;241m.\u001b[39mfunctional\u001b[38;5;241m.\u001b[39mpad(output, (\u001b[38;5;241m0\u001b[39m, \u001b[38;5;241m0\u001b[39m, \u001b[38;5;241m0\u001b[39m, \u001b[38;5;241m1600\u001b[39m \u001b[38;5;241m-\u001b[39m output\u001b[38;5;241m.\u001b[39msize(\u001b[38;5;241m0\u001b[39m)))\n",
      "\u001b[0;31mTypeError\u001b[0m: expected np.ndarray (got tuple)"
     ]
    }
   ],
   "source": [
    "import open3d as o3d\n",
    "import numpy as np\n",
    "import time\n",
    "\n",
    "def readPCDFile(fileName):\n",
    "    fileName =fileName.replace(\":\",\"_\")\n",
    "#     pcd_path = f\"data_set/{fileName}.pcd\"\n",
    "    pcd_path = f\"full_dataset/pcd/{fileName}.pcd\"\n",
    "    point_cloud = read_pcd_file(pcd_path)\n",
    "    point_cloud = voxel_downsample(point_cloud,voxel_size=0.086)\n",
    "#     point_cloud = point_cloud.voxel_down_sample(voxel_size=0.086)\n",
    "    output=torch.from_numpy(point_cloud).float()\n",
    "#     output=torch.from_numpy(np.asarray(point_cloud.points)).float()\n",
    "    output=torch.nn.functional.pad(output, (0, 0, 0, 1600 - output.size(0)))\n",
    "    output = output.to(device=device)\n",
    "    return output\n",
    "readPCDFile(\"00:00.08103\").shape"
   ]
  },
  {
   "cell_type": "code",
   "execution_count": 142,
   "id": "f4165285",
   "metadata": {},
   "outputs": [],
   "source": [
    "class CustomDataset(Dataset):\n",
    "    \n",
    "    def __init__(self, data):\n",
    "        self.labels=data\n",
    "\n",
    "    def __len__(self):\n",
    "        return len(self.labels)\n",
    "\n",
    "    def __getitem__(self, idx):\n",
    "        label = self.labels[idx] if using==\"json\" else self.labels.iloc[idx]\n",
    "        point_cloud_data = readPCDFile(label['time'])\n",
    "        label_data=torch.tensor(label['chair'],device=device)\n",
    "        return [point_cloud_data, label_data]"
   ]
  },
  {
   "cell_type": "code",
   "execution_count": 99,
   "id": "eeb2a665",
   "metadata": {},
   "outputs": [],
   "source": [
    "dataset = CustomDataset(data=data)\n",
    "dataset_loader = DataLoader(dataset, batch_size=1, shuffle=True)"
   ]
  },
  {
   "cell_type": "code",
   "execution_count": 100,
   "id": "ff62fa33",
   "metadata": {},
   "outputs": [
    {
     "data": {
      "text/plain": [
       "[tensor([[ 32.1687, -18.3864,   3.2417],\n",
       "         [ -0.5897,   2.7161,   0.2432],\n",
       "         [ -0.1999,   3.2694,   0.2866],\n",
       "         ...,\n",
       "         [  0.0000,   0.0000,   0.0000],\n",
       "         [  0.0000,   0.0000,   0.0000],\n",
       "         [  0.0000,   0.0000,   0.0000]], device='cuda:0'),\n",
       " tensor([[-0.1140, -1.0363,  0.0845,  1.8055,  1.1400,  0.4269,  0.0000,  0.0000,\n",
       "           0.0000],\n",
       "         [ 1.2384, -3.4363,  0.1242,  1.2163,  1.3069,  0.7050,  0.0000,  0.0000,\n",
       "           0.0000],\n",
       "         [ 3.2114, -3.2485,  0.1857,  0.9632,  1.1087,  0.9266,  0.0000,  0.0000,\n",
       "          48.5323],\n",
       "         [ 5.4827,  0.1195,  0.1603,  1.7691,  1.9000,  0.9465,  0.0000,  0.0000,\n",
       "           0.0000]], device='cuda:0')]"
      ]
     },
     "execution_count": 100,
     "metadata": {},
     "output_type": "execute_result"
    }
   ],
   "source": [
    "dataset_loader.dataset[0]"
   ]
  },
  {
   "cell_type": "code",
   "execution_count": 144,
   "id": "dc5e2850",
   "metadata": {},
   "outputs": [],
   "source": [
    "class NeuralNetwork(nn.Module):\n",
    "    def __init__(self):\n",
    "        super(NeuralNetwork,self).__init__()\n",
    "        self.model=nn.Sequential(\n",
    "#           # Define convolutional layers\n",
    "            nn.ReLU(),\n",
    "            nn.Conv1d(in_channels=3, out_channels=16, kernel_size=3, padding=1),\n",
    "            nn.MaxPool1d(kernel_size=16, stride=2),\n",
    "            nn.Conv1d(in_channels=16, out_channels=16, kernel_size=4, padding=1),\n",
    "            nn.Linear(792,16),\n",
    "            nn.ReLU(),\n",
    "            nn.Dropout(),\n",
    "            nn.Linear(16,1),\n",
    "            nn.Flatten(),\n",
    "        )\n",
    "        self.prob=nn.Sequential(\n",
    "            nn.ReLU(),\n",
    "            nn.Linear(16,32),\n",
    "            nn.Linear(32,10),\n",
    "            nn.ReLU(),\n",
    "            nn.Softmax(dim=1)\n",
    "        )\n",
    "        self.boxes=nn.Sequential(\n",
    "            nn.ReLU(),\n",
    "            nn.Linear(16,32),\n",
    "            nn.Linear(32,128),\n",
    "            nn.ReLU(),\n",
    "            nn.Linear(128,90)\n",
    "        )\n",
    "       \n",
    "    def forward(self,x):\n",
    "        \n",
    "        base = self.model(x)\n",
    "        _base = base.clone()\n",
    "        prob = self.prob(base)\n",
    "        boxes = self.boxes(_base).view(-1, 10,9)\n",
    "        return prob,boxes\n",
    "        "
   ]
  },
  {
   "cell_type": "code",
   "execution_count": 145,
   "id": "d379cb12",
   "metadata": {},
   "outputs": [
    {
     "name": "stdout",
     "output_type": "stream",
     "text": [
      "NeuralNetwork(\n",
      "  (model): Sequential(\n",
      "    (0): ReLU()\n",
      "    (1): Conv1d(3, 16, kernel_size=(3,), stride=(1,), padding=(1,))\n",
      "    (2): MaxPool1d(kernel_size=16, stride=2, padding=0, dilation=1, ceil_mode=False)\n",
      "    (3): Conv1d(16, 16, kernel_size=(4,), stride=(1,), padding=(1,))\n",
      "    (4): Linear(in_features=792, out_features=16, bias=True)\n",
      "    (5): ReLU()\n",
      "    (6): Dropout(p=0.5, inplace=False)\n",
      "    (7): Linear(in_features=16, out_features=1, bias=True)\n",
      "    (8): Flatten(start_dim=1, end_dim=-1)\n",
      "  )\n",
      "  (prob): Sequential(\n",
      "    (0): ReLU()\n",
      "    (1): Linear(in_features=16, out_features=32, bias=True)\n",
      "    (2): Linear(in_features=32, out_features=10, bias=True)\n",
      "    (3): ReLU()\n",
      "    (4): Softmax(dim=1)\n",
      "  )\n",
      "  (boxes): Sequential(\n",
      "    (0): ReLU()\n",
      "    (1): Linear(in_features=16, out_features=32, bias=True)\n",
      "    (2): Linear(in_features=32, out_features=128, bias=True)\n",
      "    (3): ReLU()\n",
      "    (4): Linear(in_features=128, out_features=90, bias=True)\n",
      "  )\n",
      ")\n"
     ]
    }
   ],
   "source": [
    "\n",
    "\n",
    "model = NeuralNetwork().to(device)\n",
    "print(model)\n",
    "\n",
    "criterion = nn.MSELoss()\n",
    "criterion_prob = nn.CrossEntropyLoss()\n",
    "\n",
    "optimizer = torch.optim.Adam(model.parameters(), lr=0.001)\n",
    "\n"
   ]
  },
  {
   "cell_type": "code",
   "execution_count": 147,
   "id": "b98e225c",
   "metadata": {},
   "outputs": [
    {
     "name": "stdout",
     "output_type": "stream",
     "text": [
      "[100 / 100] loss: 65.620\r"
     ]
    },
    {
     "data": {
      "image/png": "[encoded data removed]",
      "text/plain": [
       "<Figure size 640x480 with 1 Axes>"
      ]
     },
     "metadata": {},
     "output_type": "display_data"
    },
    {
     "name": "stdout",
     "output_type": "stream",
     "text": [
      "Finished Training\n"
     ]
    }
   ],
   "source": [
    "import matplotlib.pyplot as plt\n",
    "\n",
    "\n",
    "def pad_labels(label, max_len=10):\n",
    "    if len(label[0])>0 :\n",
    "        pad_width=max_len-len(label[0])\n",
    "        padded_label = torch.nn.functional.pad(label, (0, 0, 0,pad_width,0,0))\n",
    "        return padded_label\n",
    "    else:\n",
    "        return torch.zeros(1,10,9,device=device)\n",
    "\n",
    "loss_values = []\n",
    "\n",
    "for epoch in range(100):\n",
    "    running_loss = 0.0\n",
    "    \n",
    "    for i, _data in enumerate(dataset_loader, 0):\n",
    "#         if(i>50):\n",
    "#             break\n",
    "        try:\n",
    "            inputs, labels = _data\n",
    "            optimizer.zero_grad()\n",
    "            prob, boxes = model(inputs.transpose(1, 2))\n",
    "            loss = criterion(boxes, pad_labels(labels.float()))\n",
    "            prob_test = np.zeros((1, 10))\n",
    "            prob_test[0, :len(labels[0])] = 1 / (len(labels[0]) if len(labels[0])>0 else 1 )\n",
    "            loss_prob = criterion_prob(prob, torch.tensor(prob_test, device=device))\n",
    "            total_loss =  loss_prob+loss\n",
    "            total_loss.backward()\n",
    "            optimizer.step()\n",
    "            running_loss += total_loss.item()\n",
    "        \n",
    "        except:\n",
    "            print(\"Exception Occured at \"+i)\n",
    "            pass\n",
    "        # Update statistics\n",
    "       \n",
    "    loss_values.append(running_loss/len(dataset_loader.dataset))\n",
    "    if epoch % 1 == 0:  # Print every 10 mini-batches\n",
    "        print('[%d / 100] loss: %.3f' % (epoch + 1, running_loss/len(dataset_loader.dataset) ), end=\"\\r\", flush=True)\n",
    "\n",
    "\n",
    "# Plot the loss function\n",
    "plt.plot(loss_values, label='Training Loss')\n",
    "plt.xlabel('Epoch')\n",
    "plt.ylabel('Loss')\n",
    "plt.title('Training Loss')\n",
    "plt.legend()\n",
    "plt.show()\n",
    "\n",
    "\n",
    "print('Finished Training')\n"
   ]
  },
  {
   "cell_type": "code",
   "execution_count": 148,
   "id": "034b1088",
   "metadata": {},
   "outputs": [],
   "source": [
    "#Save Model\n",
    "torch.save(model, \"deepNeuralNetwork.pth\")\n"
   ]
  },
  {
   "cell_type": "code",
   "execution_count": null,
   "id": "2db389b9",
   "metadata": {},
   "outputs": [],
   "source": []
  },
  {
   "cell_type": "code",
   "execution_count": 70,
   "id": "39056d3f",
   "metadata": {},
   "outputs": [
    {
     "name": "stdout",
     "output_type": "stream",
     "text": [
      "(tensor([[1.0000e+00, 4.8519e-35, 1.3318e-35, 1.3318e-35, 1.3318e-35, 1.3318e-35,\n",
      "         1.3318e-35, 1.3318e-35, 1.3318e-35, 1.3318e-35]], device='cuda:0'), tensor([[[ 1.2682e+00, -4.5008e-02,  7.4579e-01,  2.0008e+00,  1.3906e+00,\n",
      "           2.3869e+00, -1.0664e+00,  8.8933e-01,  1.8938e+02],\n",
      "         [ 2.1093e+00, -1.1333e+00,  3.3056e-02,  1.0085e+00,  6.6936e-01,\n",
      "           7.1264e-01,  2.5426e-01,  2.0019e-01,  3.9072e+01],\n",
      "         [ 2.9495e+00, -2.5407e-02,  2.4823e-01,  1.7705e+00,  1.5025e+00,\n",
      "           1.6984e+00,  2.0010e-01, -4.8844e-01,  1.1533e+01],\n",
      "         [ 9.4729e-01, -5.8216e-01,  2.4246e-01,  3.6376e-01,  3.7220e-01,\n",
      "          -2.7163e-01, -2.2306e-01, -5.4486e-01, -2.9109e-01],\n",
      "         [-1.4748e-01, -1.0881e+00, -7.4765e-01,  1.2532e-01,  5.2863e-01,\n",
      "           2.7830e-02,  1.2351e+00,  1.5972e-01,  5.4164e-01],\n",
      "         [ 6.6300e-01, -7.1007e-01, -1.1746e+00, -8.1182e-02,  4.8782e-01,\n",
      "           2.0670e-01,  9.7283e-01, -1.2019e-01, -1.3550e-02],\n",
      "         [ 5.4710e-02, -1.5219e-01, -1.7310e-01,  1.8298e-01,  3.9631e-01,\n",
      "          -6.8425e-02,  3.5366e-01,  4.1794e-01,  1.7058e-01],\n",
      "         [ 3.1233e-02,  4.1461e-01, -7.8959e-01, -3.2376e-01, -2.4406e-01,\n",
      "          -7.1116e-01, -5.9286e-01,  4.8275e-01, -2.5705e-01],\n",
      "         [-2.7060e-01,  5.1282e-01,  5.1042e-01,  8.3918e-01,  2.3764e-02,\n",
      "           9.9169e-01,  1.0915e-01, -8.2592e-01, -1.1899e-02],\n",
      "         [-1.1869e-01, -6.8479e-01,  5.5815e-01, -4.4150e-02,  1.6770e-01,\n",
      "           1.0057e-01,  3.5612e-03,  3.5597e-01,  2.4739e-01]]],\n",
      "       device='cuda:0'))\n"
     ]
    }
   ],
   "source": [
    "with torch.no_grad():\n",
    "    prediction = model(readPCDFile(\"00:07.99279\").unsqueeze(0).transpose(1,2))\n",
    "    print(prediction)\n",
    "# print(readPCDFile(\"00:07.99279\").unsqueeze(0).shape)"
   ]
  },
  {
   "cell_type": "code",
   "execution_count": 71,
   "id": "c4ea44f7",
   "metadata": {},
   "outputs": [
    {
     "data": {
      "text/plain": [
       "1.0001"
      ]
     },
     "execution_count": 71,
     "metadata": {},
     "output_type": "execute_result"
    }
   ],
   "source": [
    "a=np.array([0.0822, 0.0629, 0.1309, 0.0699, 0.1266, 0.0716, 0.1137, 0.0919, 0.1356,\n",
    "         0.1148])\n",
    "a.sum()"
   ]
  },
  {
   "cell_type": "code",
   "execution_count": 151,
   "id": "b650b379",
   "metadata": {},
   "outputs": [
    {
     "data": {
      "text/plain": [
       "array([ True,  True,  True,  True,  True,  True,  True,  True,  True,\n",
       "        True])"
      ]
     },
     "execution_count": 151,
     "metadata": {},
     "output_type": "execute_result"
    }
   ],
   "source": [
    "a>0.05"
   ]
  },
  {
   "cell_type": "code",
   "execution_count": 177,
   "id": "0c19e109",
   "metadata": {},
   "outputs": [],
   "source": [
    "arr = np.zeros((1, 10))\n",
    "arr[0, :4] = 1 / 4"
   ]
  },
  {
   "cell_type": "code",
   "execution_count": 241,
   "id": "4a2747b4",
   "metadata": {},
   "outputs": [
    {
     "data": {
      "text/plain": [
       "tensor(6., dtype=torch.float64)"
      ]
     },
     "execution_count": 241,
     "metadata": {},
     "output_type": "execute_result"
    }
   ],
   "source": [
    "target = torch.tensor(np.ones((1,10)))\n",
    "torch.sum(target-arr*4)"
   ]
  },
  {
   "cell_type": "code",
   "execution_count": 63,
   "id": "1e18c308",
   "metadata": {},
   "outputs": [],
   "source": [
    "prob_test = np.zeros((1, 10))\n",
    "prob_test[0, :0] = 1 / 1"
   ]
  },
  {
   "cell_type": "code",
   "execution_count": 64,
   "id": "841f36cb",
   "metadata": {},
   "outputs": [
    {
     "data": {
      "text/plain": [
       "array([[0., 0., 0., 0., 0., 0., 0., 0., 0., 0.]])"
      ]
     },
     "execution_count": 64,
     "metadata": {},
     "output_type": "execute_result"
    }
   ],
   "source": [
    "prob_test"
   ]
  },
  {
   "cell_type": "code",
   "execution_count": 114,
   "id": "bd0e489a",
   "metadata": {},
   "outputs": [],
   "source": [
    "d = {'A':[1,2,4,6],\"B\":[1,2,4,5]}\n",
    "df =pd.DataFrame(d)"
   ]
  },
  {
   "cell_type": "code",
   "execution_count": 116,
   "id": "bcf0f28e",
   "metadata": {},
   "outputs": [
    {
     "data": {
      "text/html": [
       "<div>\n",
       "<style scoped>\n",
       "    .dataframe tbody tr th:only-of-type {\n",
       "        vertical-align: middle;\n",
       "    }\n",
       "\n",
       "    .dataframe tbody tr th {\n",
       "        vertical-align: top;\n",
       "    }\n",
       "\n",
       "    .dataframe thead th {\n",
       "        text-align: right;\n",
       "    }\n",
       "</style>\n",
       "<table border=\"1\" class=\"dataframe\">\n",
       "  <thead>\n",
       "    <tr style=\"text-align: right;\">\n",
       "      <th></th>\n",
       "      <th>A</th>\n",
       "      <th>B</th>\n",
       "    </tr>\n",
       "  </thead>\n",
       "  <tbody>\n",
       "    <tr>\n",
       "      <th>0</th>\n",
       "      <td>1</td>\n",
       "      <td>1</td>\n",
       "    </tr>\n",
       "    <tr>\n",
       "      <th>2</th>\n",
       "      <td>4</td>\n",
       "      <td>4</td>\n",
       "    </tr>\n",
       "    <tr>\n",
       "      <th>3</th>\n",
       "      <td>6</td>\n",
       "      <td>5</td>\n",
       "    </tr>\n",
       "  </tbody>\n",
       "</table>\n",
       "</div>"
      ],
      "text/plain": [
       "   A  B\n",
       "0  1  1\n",
       "2  4  4\n",
       "3  6  5"
      ]
     },
     "execution_count": 116,
     "metadata": {},
     "output_type": "execute_result"
    }
   ],
   "source": [
    "df.drop(1)"
   ]
  },
  {
   "cell_type": "code",
   "execution_count": 117,
   "id": "8e567a1c",
   "metadata": {},
   "outputs": [
    {
     "data": {
      "text/html": [
       "<div>\n",
       "<style scoped>\n",
       "    .dataframe tbody tr th:only-of-type {\n",
       "        vertical-align: middle;\n",
       "    }\n",
       "\n",
       "    .dataframe tbody tr th {\n",
       "        vertical-align: top;\n",
       "    }\n",
       "\n",
       "    .dataframe thead th {\n",
       "        text-align: right;\n",
       "    }\n",
       "</style>\n",
       "<table border=\"1\" class=\"dataframe\">\n",
       "  <thead>\n",
       "    <tr style=\"text-align: right;\">\n",
       "      <th></th>\n",
       "      <th>A</th>\n",
       "      <th>B</th>\n",
       "    </tr>\n",
       "  </thead>\n",
       "  <tbody>\n",
       "    <tr>\n",
       "      <th>0</th>\n",
       "      <td>1</td>\n",
       "      <td>1</td>\n",
       "    </tr>\n",
       "    <tr>\n",
       "      <th>1</th>\n",
       "      <td>2</td>\n",
       "      <td>2</td>\n",
       "    </tr>\n",
       "    <tr>\n",
       "      <th>2</th>\n",
       "      <td>4</td>\n",
       "      <td>4</td>\n",
       "    </tr>\n",
       "    <tr>\n",
       "      <th>3</th>\n",
       "      <td>6</td>\n",
       "      <td>5</td>\n",
       "    </tr>\n",
       "  </tbody>\n",
       "</table>\n",
       "</div>"
      ],
      "text/plain": [
       "   A  B\n",
       "0  1  1\n",
       "1  2  2\n",
       "2  4  4\n",
       "3  6  5"
      ]
     },
     "execution_count": 117,
     "metadata": {},
     "output_type": "execute_result"
    }
   ],
   "source": [
    "df"
   ]
  },
  {
   "cell_type": "code",
   "execution_count": null,
   "id": "92e0d500",
   "metadata": {},
   "outputs": [],
   "source": []
  }
 ],
 "metadata": {
  "kernelspec": {
   "display_name": "Python 3 (ipykernel)",
   "language": "python",
   "name": "python3"
  },
  "language_info": {
   "codemirror_mode": {
    "name": "ipython",
    "version": 3
   },
   "file_extension": ".py",
   "mimetype": "text/x-python",
   "name": "python",
   "nbconvert_exporter": "python",
   "pygments_lexer": "ipython3",
   "version": "3.8.10"
  }
 },
 "nbformat": 4,
 "nbformat_minor": 5
}
